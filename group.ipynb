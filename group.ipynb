{
 "cells": [
  {
   "cell_type": "code",
   "execution_count": 10,
   "metadata": {},
   "outputs": [
    {
     "name": "stdout",
     "output_type": "stream",
     "text": [
      "<class 'pandas.core.frame.DataFrame'>\n",
      "RangeIndex: 8657 entries, 0 to 8656\n",
      "Data columns (total 7 columns):\n",
      " #   Column       Non-Null Count  Dtype \n",
      "---  ------       --------------  ----- \n",
      " 0   Location ID  8657 non-null   int64 \n",
      " 1   Product ID   8657 non-null   object\n",
      " 2   Customer ID  8657 non-null   int64 \n",
      " 3   W37 2023     8657 non-null   object\n",
      " 4   W38 2023     8657 non-null   object\n",
      " 5   W39 2023     8657 non-null   object\n",
      " 6   W40 2023     8657 non-null   object\n",
      "dtypes: int64(2), object(5)\n",
      "memory usage: 473.6+ KB\n"
     ]
    },
    {
     "data": {
      "text/plain": [
       "(None, (8657, 7))"
      ]
     },
     "execution_count": 10,
     "metadata": {},
     "output_type": "execute_result"
    }
   ],
   "source": [
    "import pandas as pd\n",
    "df = pd.read_csv('test_data.csv')\n",
    "df.fillna(0, inplace=True)\n",
    "selected_numerical_variables =['W37 2023', 'W38 2023' ,'W39 2023', 'W40 2023']\n",
    "selected_categorical_variables =['Location ID',   'Product ID' , 'Customer ID'  ]\n",
    "dfg = df.groupby(selected_categorical_variables)[selected_numerical_variables].sum().reset_index()\n",
    "dfg.info(), dfg.shape"
   ]
  },
  {
   "cell_type": "code",
   "execution_count": 11,
   "metadata": {},
   "outputs": [
    {
     "name": "stdout",
     "output_type": "stream",
     "text": [
      "<class 'pandas.core.frame.DataFrame'>\n",
      "RangeIndex: 8657 entries, 0 to 8656\n",
      "Data columns (total 7 columns):\n",
      " #   Column       Non-Null Count  Dtype   \n",
      "---  ------       --------------  -----   \n",
      " 0   Location ID  8657 non-null   category\n",
      " 1   Product ID   8657 non-null   category\n",
      " 2   Customer ID  8657 non-null   category\n",
      " 3   W37 2023     8389 non-null   float64 \n",
      " 4   W38 2023     8389 non-null   float64 \n",
      " 5   W39 2023     8411 non-null   float64 \n",
      " 6   W40 2023     8411 non-null   float64 \n",
      "dtypes: category(3), float64(4)\n",
      "memory usage: 646.5 KB\n",
      "None\n"
     ]
    }
   ],
   "source": [
    "for col in selected_numerical_variables:\n",
    "    if dfg[col].dtype != 'object':\n",
    "        dfg[col] = pd.to_numeric(dfg[col].astype(str).str.replace(',', ''), errors='coerce')\n",
    "    else:\n",
    "        dfg[col] = pd.to_numeric(dfg[col].str.replace(',', ''), errors='coerce')\n",
    "for col in selected_categorical_variables:\n",
    "    dfg[col] = dfg[col].astype('category')\n",
    "print(dfg.info())"
   ]
  },
  {
   "cell_type": "code",
   "execution_count": 9,
   "metadata": {},
   "outputs": [
    {
     "name": "stdout",
     "output_type": "stream",
     "text": [
      "<class 'pandas.core.frame.DataFrame'>\n",
      "RangeIndex: 7175 entries, 0 to 7174\n",
      "Data columns (total 2 columns):\n",
      " #   Column       Non-Null Count  Dtype \n",
      "---  ------       --------------  ----- \n",
      " 0   Location ID  7175 non-null   int64 \n",
      " 1   Product ID   7175 non-null   object\n",
      "dtypes: int64(1), object(1)\n",
      "memory usage: 112.2+ KB\n"
     ]
    },
    {
     "name": "stderr",
     "output_type": "stream",
     "text": [
      "C:\\Users\\HuijinYu\\AppData\\Local\\Temp\\ipykernel_12780\\4270813265.py:3: FutureWarning: The default value of numeric_only in DataFrameGroupBy.sum is deprecated. In a future version, numeric_only will default to False. Either specify numeric_only or select only columns which should be valid for the function.\n",
      "  dfg_1 = df.groupby(cat)[num].sum().reset_index()\n"
     ]
    },
    {
     "data": {
      "text/plain": [
       "(None, (7175, 2))"
      ]
     },
     "execution_count": 9,
     "metadata": {},
     "output_type": "execute_result"
    }
   ],
   "source": [
    "num =['W37 2023', 'W38 2023' ,'W39 2023', 'W40 2023']\n",
    "cat =['Location ID',   'Product ID']\n",
    "dfg_1 = df.groupby(cat)[num].sum().reset_index()\n",
    "dfg_1.info(), dfg_1.shape"
   ]
  },
  {
   "cell_type": "code",
   "execution_count": 8,
   "metadata": {},
   "outputs": [
    {
     "name": "stdout",
     "output_type": "stream",
     "text": [
      "<class 'pandas.core.frame.DataFrame'>\n",
      "RangeIndex: 7175 entries, 0 to 7174\n",
      "Data columns (total 2 columns):\n",
      " #   Column       Non-Null Count  Dtype \n",
      "---  ------       --------------  ----- \n",
      " 0   Location ID  7175 non-null   int64 \n",
      " 1   Product ID   7175 non-null   object\n",
      "dtypes: int64(1), object(1)\n",
      "memory usage: 112.2+ KB\n",
      "None\n"
     ]
    }
   ],
   "source": [
    "print(dfg_1.info())"
   ]
  },
  {
   "cell_type": "code",
   "execution_count": 14,
   "metadata": {},
   "outputs": [
    {
     "name": "stderr",
     "output_type": "stream",
     "text": [
      "C:\\Users\\HuijinYu\\AppData\\Local\\Temp\\ipykernel_12780\\3616267787.py:2: FutureWarning: The default value of numeric_only in DataFrameGroupBy.sum is deprecated. In a future version, numeric_only will default to False. Either specify numeric_only or select only columns which should be valid for the function.\n",
      "  aggregated_df = df.groupby(selected_categorical_columns).agg('sum').reset_index()\n"
     ]
    },
    {
     "data": {
      "text/html": [
       "<div>\n",
       "<style scoped>\n",
       "    .dataframe tbody tr th:only-of-type {\n",
       "        vertical-align: middle;\n",
       "    }\n",
       "\n",
       "    .dataframe tbody tr th {\n",
       "        vertical-align: top;\n",
       "    }\n",
       "\n",
       "    .dataframe thead th {\n",
       "        text-align: right;\n",
       "    }\n",
       "</style>\n",
       "<table border=\"1\" class=\"dataframe\">\n",
       "  <thead>\n",
       "    <tr style=\"text-align: right;\">\n",
       "      <th></th>\n",
       "      <th>Location ID</th>\n",
       "      <th>Product ID</th>\n",
       "      <th>Customer ID</th>\n",
       "    </tr>\n",
       "  </thead>\n",
       "  <tbody>\n",
       "    <tr>\n",
       "      <th>0</th>\n",
       "      <td>8310</td>\n",
       "      <td>10000013044V</td>\n",
       "      <td>104841</td>\n",
       "    </tr>\n",
       "    <tr>\n",
       "      <th>1</th>\n",
       "      <td>8310</td>\n",
       "      <td>10000013055V</td>\n",
       "      <td>503572</td>\n",
       "    </tr>\n",
       "    <tr>\n",
       "      <th>2</th>\n",
       "      <td>8310</td>\n",
       "      <td>10000013056V</td>\n",
       "      <td>401500</td>\n",
       "    </tr>\n",
       "    <tr>\n",
       "      <th>3</th>\n",
       "      <td>8310</td>\n",
       "      <td>10000013067V</td>\n",
       "      <td>100956</td>\n",
       "    </tr>\n",
       "    <tr>\n",
       "      <th>4</th>\n",
       "      <td>8310</td>\n",
       "      <td>10000013302</td>\n",
       "      <td>102265</td>\n",
       "    </tr>\n",
       "    <tr>\n",
       "      <th>...</th>\n",
       "      <td>...</td>\n",
       "      <td>...</td>\n",
       "      <td>...</td>\n",
       "    </tr>\n",
       "    <tr>\n",
       "      <th>7170</th>\n",
       "      <td>8310</td>\n",
       "      <td>140043402V</td>\n",
       "      <td>100072</td>\n",
       "    </tr>\n",
       "    <tr>\n",
       "      <th>7171</th>\n",
       "      <td>8310</td>\n",
       "      <td>140043403V</td>\n",
       "      <td>100072</td>\n",
       "    </tr>\n",
       "    <tr>\n",
       "      <th>7172</th>\n",
       "      <td>8310</td>\n",
       "      <td>140043415V</td>\n",
       "      <td>100072</td>\n",
       "    </tr>\n",
       "    <tr>\n",
       "      <th>7173</th>\n",
       "      <td>8310</td>\n",
       "      <td>140043501V</td>\n",
       "      <td>201432</td>\n",
       "    </tr>\n",
       "    <tr>\n",
       "      <th>7174</th>\n",
       "      <td>8310</td>\n",
       "      <td>140044101V</td>\n",
       "      <td>100072</td>\n",
       "    </tr>\n",
       "  </tbody>\n",
       "</table>\n",
       "<p>7175 rows × 3 columns</p>\n",
       "</div>"
      ],
      "text/plain": [
       "      Location ID    Product ID  Customer ID\n",
       "0            8310  10000013044V       104841\n",
       "1            8310  10000013055V       503572\n",
       "2            8310  10000013056V       401500\n",
       "3            8310  10000013067V       100956\n",
       "4            8310   10000013302       102265\n",
       "...           ...           ...          ...\n",
       "7170         8310    140043402V       100072\n",
       "7171         8310    140043403V       100072\n",
       "7172         8310    140043415V       100072\n",
       "7173         8310    140043501V       201432\n",
       "7174         8310    140044101V       100072\n",
       "\n",
       "[7175 rows x 3 columns]"
      ]
     },
     "execution_count": 14,
     "metadata": {},
     "output_type": "execute_result"
    }
   ],
   "source": [
    "selected_categorical_columns = ['Location ID', 'Product ID']\n",
    "aggregated_df = df.groupby(selected_categorical_columns).agg('sum').reset_index()\n",
    "aggregated_df\n"
   ]
  },
  {
   "cell_type": "code",
   "execution_count": 15,
   "metadata": {},
   "outputs": [
    {
     "name": "stdout",
     "output_type": "stream",
     "text": [
      "<class 'pandas.core.frame.DataFrame'>\n",
      "RangeIndex: 7175 entries, 0 to 7174\n",
      "Data columns (total 3 columns):\n",
      " #   Column       Non-Null Count  Dtype \n",
      "---  ------       --------------  ----- \n",
      " 0   Location ID  7175 non-null   int64 \n",
      " 1   Product ID   7175 non-null   object\n",
      " 2   Customer ID  7175 non-null   int64 \n",
      "dtypes: int64(2), object(1)\n",
      "memory usage: 168.3+ KB\n",
      "None\n",
      "<class 'pandas.core.frame.DataFrame'>\n",
      "RangeIndex: 7175 entries, 0 to 7174\n",
      "Data columns (total 3 columns):\n",
      " #   Column       Non-Null Count  Dtype \n",
      "---  ------       --------------  ----- \n",
      " 0   Location ID  7175 non-null   int64 \n",
      " 1   Product ID   7175 non-null   object\n",
      " 2   Customer ID  7175 non-null   int64 \n",
      "dtypes: int64(2), object(1)\n",
      "memory usage: 168.3+ KB\n"
     ]
    },
    {
     "data": {
      "text/plain": [
       "(None, (7175, 3))"
      ]
     },
     "execution_count": 15,
     "metadata": {},
     "output_type": "execute_result"
    }
   ],
   "source": [
    "print(aggregated_df.info())\n",
    "aggregated_df.info(), aggregated_df.shape"
   ]
  }
 ],
 "metadata": {
  "kernelspec": {
   "display_name": "base",
   "language": "python",
   "name": "python3"
  },
  "language_info": {
   "codemirror_mode": {
    "name": "ipython",
    "version": 3
   },
   "file_extension": ".py",
   "mimetype": "text/x-python",
   "name": "python",
   "nbconvert_exporter": "python",
   "pygments_lexer": "ipython3",
   "version": "3.10.9"
  }
 },
 "nbformat": 4,
 "nbformat_minor": 2
}
